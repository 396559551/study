{
 "cells": [
  {
   "cell_type": "code",
   "execution_count": 3,
   "metadata": {
    "collapsed": true,
    "pycharm": {
     "name": "#%%索引\n"
    }
   },
   "outputs": [],
   "source": [
    "import pandas as pd\n",
    "import numpy as np"
   ]
  },
  {
   "cell_type": "code",
   "execution_count": 4,
   "outputs": [
    {
     "data": {
      "text/plain": "0.9587666217083844"
     },
     "execution_count": 4,
     "metadata": {},
     "output_type": "execute_result"
    }
   ],
   "source": [
    "s=pd.Series(np.random.rand(5))\n",
    "s[0]"
   ],
   "metadata": {
    "collapsed": false,
    "pycharm": {
     "name": "#%%位置下标，类似序列\n"
    }
   }
  },
  {
   "cell_type": "code",
   "execution_count": 5,
   "outputs": [
    {
     "data": {
      "text/plain": "0.39901755968763297"
     },
     "execution_count": 5,
     "metadata": {},
     "output_type": "execute_result"
    }
   ],
   "source": [
    "s=pd.Series(np.random.rand(5),index=['a','b','c','d','e'])\n",
    "s['a']"
   ],
   "metadata": {
    "collapsed": false,
    "pycharm": {
     "name": "#%%标签索引\n"
    }
   }
  },
  {
   "cell_type": "code",
   "execution_count": 9,
   "outputs": [
    {
     "data": {
      "text/plain": "c    0.754277\nd    0.928081\ndtype: float64"
     },
     "execution_count": 9,
     "metadata": {},
     "output_type": "execute_result"
    }
   ],
   "source": [
    "s['a':'d']\n",
    "s[1:-1]"
   ],
   "metadata": {
    "collapsed": false,
    "pycharm": {
     "name": "#%%切片索引\n"
    }
   }
  },
  {
   "cell_type": "code",
   "execution_count": 12,
   "outputs": [
    {
     "name": "stdout",
     "output_type": "stream",
     "text": [
      "0    38.4279\n",
      "1    81.0142\n",
      "2    30.0826\n",
      "4       None\n",
      "dtype: object\n",
      "0    False\n",
      "1     True\n",
      "2    False\n",
      "4    False\n",
      "dtype: bool <class 'pandas.core.series.Series'> bool\n",
      "0    False\n",
      "1    False\n",
      "2    False\n",
      "4     True\n",
      "dtype: bool <class 'pandas.core.series.Series'> bool\n",
      "0     True\n",
      "1     True\n",
      "2     True\n",
      "4    False\n",
      "dtype: bool <class 'pandas.core.series.Series'> bool\n"
     ]
    }
   ],
   "source": [
    "s = pd.Series(np.random.rand(3)*100)\n",
    "s[4] = None  # 添加一个空值\n",
    "print(s)\n",
    "bs1 = s > 50\n",
    "bs2 = s.isnull()\n",
    "bs3 = s.notnull()\n",
    "print(bs1, type(bs1), bs1.dtype)\n",
    "print(bs2, type(bs2), bs2.dtype)\n",
    "print(bs3, type(bs3), bs3.dtype)"
   ],
   "metadata": {
    "collapsed": false,
    "pycharm": {
     "name": "#%%布尔型索引\n"
    }
   }
  },
  {
   "cell_type": "code",
   "execution_count": 13,
   "outputs": [
    {
     "name": "stdout",
     "output_type": "stream",
     "text": [
      "0    0.787011\n",
      "1    0.375444\n",
      "2    0.352914\n",
      "3    0.691202\n",
      "4    0.857413\n",
      "5    0.449150\n",
      "6    0.398416\n",
      "7    0.985939\n",
      "8    0.475394\n",
      "9    0.922981\n",
      "dtype: float64\n",
      "45    0.860695\n",
      "46    0.610037\n",
      "47    0.666663\n",
      "48    0.997278\n",
      "49    0.879813\n",
      "dtype: float64\n"
     ]
    }
   ],
   "source": [
    "s = pd.Series(np.random.rand(50))\n",
    "# .head()查看头部数据\n",
    "# .tail()查看尾部数据\n",
    "# 默认查看5条\n",
    "print(s.head(10))\n",
    "print(s.tail())"
   ],
   "metadata": {
    "collapsed": false,
    "pycharm": {
     "name": "#%% 数据查看\n"
    }
   }
  },
  {
   "cell_type": "code",
   "execution_count": 20,
   "outputs": [
    {
     "name": "stdout",
     "output_type": "stream",
     "text": [
      "a    0.591893\n",
      "b    0.656400\n",
      "c    0.989292\n",
      "dtype: float64 c    0.989292\n",
      "b    0.656400\n",
      "a    0.591893\n",
      "4         NaN\n",
      "dtype: float64 c    0.989292\n",
      "b    0.656400\n",
      "a    0.591893\n",
      "4    0.000000\n",
      "dtype: float64\n"
     ]
    }
   ],
   "source": [
    "s=pd.Series(np.random.rand(3),index=['a','b','c'])\n",
    "s1=s.reindex(['c','b','a','4'])\n",
    "s2=s.reindex(['c','b','a','4'],fill_value=0)\n",
    "# fill_value参数：填充缺失值的值\n",
    "print(s,s1,s2)"
   ],
   "metadata": {
    "collapsed": false,
    "pycharm": {
     "name": "#%%重新索引reindex将会根据索引重新排序，如果当前索引不存在，则引入缺失值\n"
    }
   }
  },
  {
   "cell_type": "code",
   "execution_count": 21,
   "outputs": [
    {
     "name": "stdout",
     "output_type": "stream",
     "text": [
      "Jack     0.556885\n",
      "Marry    0.441271\n",
      "Tom      0.732886\n",
      "dtype: float64 Wang     0.056283\n",
      "Jack     0.438426\n",
      "Marry    0.152725\n",
      "dtype: float64 Jack     0.995311\n",
      "Marry    0.593996\n",
      "Tom           NaN\n",
      "Wang          NaN\n",
      "dtype: float64\n"
     ]
    }
   ],
   "source": [
    "s1 = pd.Series(np.random.rand(3), index = ['Jack','Marry','Tom'])\n",
    "s2 = pd.Series(np.random.rand(3), index = ['Wang','Jack','Marry'])\n",
    "print(s1,s2,s1+s2)\n",
    "# Series 和 ndarray 之间的主要区别是，Series 上的操作会根据标签自动对齐\n",
    "# index顺序不会影响数值计算，以标签来计算\n",
    "# 空值和任何值计算结果扔为空值"
   ],
   "metadata": {
    "collapsed": false,
    "pycharm": {
     "name": "#%%Series对齐\n"
    }
   }
  },
  {
   "cell_type": "code",
   "execution_count": 22,
   "outputs": [
    {
     "name": "stdout",
     "output_type": "stream",
     "text": [
      "n    0.906195\n",
      "g    0.124109\n",
      "j    0.966857\n",
      "u    0.550390\n",
      "r    0.771983\n",
      "dtype: float64\n",
      "g    0.124109\n",
      "j    0.966857\n",
      "u    0.550390\n",
      "r    0.771983\n",
      "dtype: float64\n",
      "n    0.906195\n",
      "u    0.550390\n",
      "r    0.771983\n",
      "dtype: float64\n",
      "n    0.906195\n",
      "g    0.124109\n",
      "j    0.966857\n",
      "u    0.550390\n",
      "r    0.771983\n",
      "dtype: float64\n"
     ]
    }
   ],
   "source": [
    "s = pd.Series(np.random.rand(5), index = list('ngjur'))\n",
    "print(s)\n",
    "s1 = s.drop('n')\n",
    "s2 = s.drop(['g','j'])\n",
    "print(s1)\n",
    "print(s2)\n",
    "print(s)\n",
    "# drop 删除元素之后返回副本(inplace=False"
   ],
   "metadata": {
    "collapsed": false,
    "pycharm": {
     "name": "#%%删除：.drop\n"
    }
   }
  },
  {
   "cell_type": "code",
   "execution_count": 25,
   "outputs": [
    {
     "name": "stdout",
     "output_type": "stream",
     "text": [
      "0    0.027897\n",
      "1    0.543964\n",
      "2    0.814361\n",
      "3    0.373950\n",
      "4    0.965048\n",
      "dtype: float64\n",
      "n    0.222436\n",
      "g    0.244344\n",
      "j    0.562233\n",
      "u    0.945681\n",
      "r    0.230615\n",
      "dtype: float64\n",
      "0      0.027897\n",
      "1      0.543964\n",
      "2      0.814361\n",
      "3      0.373950\n",
      "4      0.965048\n",
      "5    100.000000\n",
      "dtype: float64\n",
      "n      0.222436\n",
      "g      0.244344\n",
      "j      0.562233\n",
      "u      0.945681\n",
      "r      0.230615\n",
      "a    100.000000\n",
      "dtype: float64\n",
      "-------\n",
      "0      0.027897\n",
      "1      0.543964\n",
      "2      0.814361\n",
      "3      0.373950\n",
      "4      0.965048\n",
      "5    100.000000\n",
      "n      0.222436\n",
      "g      0.244344\n",
      "j      0.562233\n",
      "u      0.945681\n",
      "r      0.230615\n",
      "a    100.000000\n",
      "dtype: float64\n",
      "0      0.027897\n",
      "1      0.543964\n",
      "2      0.814361\n",
      "3      0.373950\n",
      "4      0.965048\n",
      "5    100.000000\n",
      "dtype: float64\n"
     ]
    }
   ],
   "source": [
    "s1 = pd.Series(np.random.rand(5))\n",
    "s2 = pd.Series(np.random.rand(5), index = list('ngjur'))\n",
    "print(s1)\n",
    "print(s2)\n",
    "s1[5] = 100\n",
    "s2['a'] = 100\n",
    "print(s1)\n",
    "print(s2)\n",
    "print('-------')\n",
    "s3=s1.append(s2)\n",
    "print(s3)\n",
    "print(s1)\n",
    "#通过.append方法，直接添加一个数组\n",
    "#.append方法生成一个新的数组，不改变之前的数组"
   ],
   "metadata": {
    "collapsed": false,
    "pycharm": {
     "name": "#%%添加\n"
    }
   }
  }
 ],
 "metadata": {
  "kernelspec": {
   "name": "pycharm-e081fc9f",
   "language": "python",
   "display_name": "PyCharm (IdealData)"
  },
  "language_info": {
   "codemirror_mode": {
    "name": "ipython",
    "version": 2
   },
   "file_extension": ".py",
   "mimetype": "text/x-python",
   "name": "python",
   "nbconvert_exporter": "python",
   "pygments_lexer": "ipython2",
   "version": "2.7.6"
  }
 },
 "nbformat": 4,
 "nbformat_minor": 0
}