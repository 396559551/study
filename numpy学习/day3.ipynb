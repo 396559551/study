{
 "cells": [
  {
   "cell_type": "code",
   "execution_count": 1,
   "metadata": {
    "collapsed": true
   },
   "outputs": [],
   "source": [
    "import numpy as np"
   ]
  },
  {
   "cell_type": "code",
   "execution_count": 2,
   "outputs": [
    {
     "data": {
      "text/plain": "array([[0.21486065, 0.91069001, 0.44277693, 0.06116579, 0.        ],\n       [0.35747169, 0.51149757, 0.5858342 , 0.46176369, 0.0882112 ],\n       [1.        , 0.83494554, 0.56584295, 0.48308873, 0.71077015],\n       [0.63813735, 0.66650789, 0.09242064, 0.53104544, 0.09456441],\n       [0.12467042, 0.45620681, 0.86283399, 0.74549853, 0.49741524]])"
     },
     "execution_count": 2,
     "metadata": {},
     "output_type": "execute_result"
    }
   ],
   "source": [
    "a=np.random.random((5,5))\n",
    "max,min=a.max(),a.min()\n",
    "a=(a-min)/(max-min)\n",
    "a"
   ],
   "metadata": {
    "collapsed": false,
    "pycharm": {
     "name": "#%%对一个5x5的随机矩阵做归一化\n"
    }
   }
  },
  {
   "cell_type": "code",
   "execution_count": 3,
   "outputs": [
    {
     "name": "stderr",
     "output_type": "stream",
     "text": [
      "<ipython-input-3-70844dc2a6fc>:1: FutureWarning: Passing (type, 1) or '1type' as a synonym of type is deprecated; in a future version of numpy, it will be understood as (type, (1,)) / '(1,)type'.\n",
      "  color = np.dtype([(\"r\", np.ubyte, 1),\n"
     ]
    },
    {
     "data": {
      "text/plain": "dtype([('r', 'u1'), ('g', 'u1'), ('b', 'u1'), ('a', 'u1')])"
     },
     "execution_count": 3,
     "metadata": {},
     "output_type": "execute_result"
    }
   ],
   "source": [
    "color = np.dtype([(\"r\", np.ubyte, 1),\n",
    "                  (\"g\", np.ubyte, 1),\n",
    "                  (\"b\", np.ubyte, 1),\n",
    "                  (\"a\", np.ubyte, 1)])\n",
    "color"
   ],
   "metadata": {
    "collapsed": false,
    "pycharm": {
     "name": "#%% 创建一个将颜色描述为(RGBA)四个无符号字节的自定义dtype？\n"
    }
   }
  },
  {
   "cell_type": "code",
   "execution_count": 5,
   "outputs": [
    {
     "data": {
      "text/plain": "array([[0.33159842, 0.20023101],\n       [1.06340359, 0.69957227],\n       [1.03790484, 0.79276876],\n       [0.72397945, 0.58543876],\n       [0.67097402, 0.50372589]])"
     },
     "execution_count": 5,
     "metadata": {},
     "output_type": "execute_result"
    }
   ],
   "source": [
    "a=np.random.random((5,3))\n",
    "b=np.random.random((3,2))\n",
    "np.dot(a,b)"
   ],
   "metadata": {
    "collapsed": false,
    "pycharm": {
     "name": "#%% 一个5x3的矩阵与一个3x2的矩阵相乘，实矩阵乘积是什么\n"
    }
   }
  },
  {
   "cell_type": "code",
   "execution_count": 9,
   "outputs": [
    {
     "data": {
      "text/plain": "array([ 0,  1,  2,  3, -4, -5, -6, -7, -8,  9])"
     },
     "execution_count": 9,
     "metadata": {},
     "output_type": "execute_result"
    }
   ],
   "source": [
    "a=np.arange(10)\n",
    "a[4:9]*=-1\n",
    "a"
   ],
   "metadata": {
    "collapsed": false,
    "pycharm": {
     "name": "#%%给定一个一维数组，对其在3到8之间的所有元素取反\n"
    }
   }
  },
  {
   "cell_type": "code",
   "execution_count": 10,
   "outputs": [
    {
     "name": "stdout",
     "output_type": "stream",
     "text": [
      "9\n"
     ]
    }
   ],
   "source": [
    "print(sum(range(5),-1))"
   ],
   "metadata": {
    "collapsed": false,
    "pycharm": {
     "name": "#%%\n"
    }
   }
  },
  {
   "cell_type": "code",
   "execution_count": 15,
   "outputs": [
    {
     "name": "stdout",
     "output_type": "stream",
     "text": [
      "[ 8.  1.  4.  8. -6. -3.  4. -9. -2.  1.]\n"
     ]
    },
    {
     "data": {
      "text/plain": "array([ 7.70118334,  0.79674982,  3.34375171,  7.88285712, -5.33011219,\n       -2.37641377,  3.68193866, -8.38417005, -1.96925943,  0.70431416])"
     },
     "execution_count": 15,
     "metadata": {},
     "output_type": "execute_result"
    }
   ],
   "source": [
    "Z = np.random.uniform(-10,+10,10)\n",
    "print (np.copysign(np.ceil(np.abs(Z)), Z))\n",
    "#np.ceil(a)ceiling向上取整np.floor(a)向下取整\n",
    "#np.copysign(a, b) : 将b中各元素的符号赋值给数组a的对应元素\n",
    "Z"
   ],
   "metadata": {
    "collapsed": false,
    "pycharm": {
     "name": "#%%如何从零位对浮点数组做舍入\n"
    }
   }
  },
  {
   "cell_type": "code",
   "execution_count": 16,
   "outputs": [
    {
     "name": "stdout",
     "output_type": "stream",
     "text": [
      "[3 8]\n"
     ]
    }
   ],
   "source": [
    "Z1 = np.random.randint(0,10,10)\n",
    "Z2 = np.random.randint(0,10,10)\n",
    "print(np.intersect1d(Z1,Z2))"
   ],
   "metadata": {
    "collapsed": false,
    "pycharm": {
     "name": "#%%如何找到两个数组中的共同元素\n"
    }
   }
  },
  {
   "cell_type": "code",
   "execution_count": 17,
   "outputs": [
    {
     "name": "stdout",
     "output_type": "stream",
     "text": [
      "Yesterday is 2020-10-04\n",
      "Today is 2020-10-05\n",
      "Tomorrow is 2020-10-06\n"
     ]
    }
   ],
   "source": [
    "yesterday = np.datetime64('today', 'D') - np.timedelta64(1, 'D')\n",
    "today     = np.datetime64('today', 'D')\n",
    "tomorrow  = np.datetime64('today', 'D') + np.timedelta64(1, 'D')\n",
    "print (\"Yesterday is \" + str(yesterday))\n",
    "print (\"Today is \" + str(today))\n",
    "print (\"Tomorrow is \"+ str(tomorrow))"
   ],
   "metadata": {
    "collapsed": false,
    "pycharm": {
     "name": "#%%如何得到昨天，今天，明天的日期?\n"
    }
   }
  },
  {
   "cell_type": "code",
   "execution_count": 18,
   "outputs": [
    {
     "data": {
      "text/plain": "array(['2020-10-01', '2020-10-02', '2020-10-03', '2020-10-04',\n       '2020-10-05', '2020-10-06', '2020-10-07', '2020-10-08',\n       '2020-10-09', '2020-10-10', '2020-10-11', '2020-10-12',\n       '2020-10-13', '2020-10-14', '2020-10-15', '2020-10-16',\n       '2020-10-17', '2020-10-18', '2020-10-19', '2020-10-20',\n       '2020-10-21', '2020-10-22', '2020-10-23', '2020-10-24',\n       '2020-10-25', '2020-10-26', '2020-10-27', '2020-10-28',\n       '2020-10-29', '2020-10-30', '2020-10-31'], dtype='datetime64[D]')"
     },
     "execution_count": 18,
     "metadata": {},
     "output_type": "execute_result"
    }
   ],
   "source": [
    "np.arange('2020-10', '2020-11', dtype='datetime64[D]')"
   ],
   "metadata": {
    "collapsed": false,
    "pycharm": {
     "name": "#%%如何得到所有与2020年10月对应的日期\n"
    }
   }
  },
  {
   "cell_type": "code",
   "execution_count": 24,
   "outputs": [
    {
     "data": {
      "text/plain": "array([-1.5, -1.5, -1.5])"
     },
     "execution_count": 24,
     "metadata": {},
     "output_type": "execute_result"
    }
   ],
   "source": [
    "a=np.ones(3)*1\n",
    "b=np.ones(3)*2\n",
    "np.add(a,b,out=b)\n",
    "np.divide(a,2,out=a)\n",
    "np.negative(a,out=a)\n",
    "np.multiply(a,b,out=a)"
   ],
   "metadata": {
    "collapsed": false,
    "pycharm": {
     "name": "#%% 如何直接在位计算(A+B)\\*(-A/2)(不建立副本)\n"
    }
   }
  },
  {
   "cell_type": "code",
   "execution_count": 26,
   "outputs": [
    {
     "data": {
      "text/plain": "array([[0., 1., 2., 3., 4.],\n       [0., 1., 2., 3., 4.],\n       [0., 1., 2., 3., 4.],\n       [0., 1., 2., 3., 4.],\n       [0., 1., 2., 3., 4.]])"
     },
     "execution_count": 26,
     "metadata": {},
     "output_type": "execute_result"
    }
   ],
   "source": [
    "a=np.zeros((5,5))\n",
    "a+=np.arange(5)\n",
    "a"
   ],
   "metadata": {
    "collapsed": false,
    "pycharm": {
     "name": "#%%创建一个5x5的矩阵，其中每行的数值范围从0到4\n"
    }
   }
  },
  {
   "cell_type": "code",
   "execution_count": 27,
   "outputs": [
    {
     "data": {
      "text/plain": "array([0., 1., 2., 3., 4., 5., 6., 7., 8., 9.])"
     },
     "execution_count": 27,
     "metadata": {},
     "output_type": "execute_result"
    }
   ],
   "source": [
    "def generate():\n",
    "    for x in range(10):\n",
    "        yield x\n",
    "Z = np.fromiter(generate(),dtype=float,count=-1)\n",
    "#np.fromiter()（iterable，dtype，count = -1）\n",
    "#iterable：可迭代对象为数组提供数据。\n",
    "     # dtype：返回数组的数据类型。\n",
    "     # count：int，可选\n",
    "     #     要从* iterable *中读取的项目数。 默认值为-1，\n",
    "     #     这意味着所有数据都被读取。\n",
    "Z"
   ],
   "metadata": {
    "collapsed": false,
    "pycharm": {
     "name": "#%%通过考虑一个可生成10个整数的函数，来构建一个数组\n"
    }
   }
  },
  {
   "cell_type": "code",
   "execution_count": 29,
   "outputs": [
    {
     "data": {
      "text/plain": "array([0.        , 0.09090909, 0.18181818, 0.27272727, 0.36363636,\n       0.45454545, 0.54545455, 0.63636364, 0.72727273, 0.81818182,\n       0.90909091])"
     },
     "execution_count": 29,
     "metadata": {},
     "output_type": "execute_result"
    }
   ],
   "source": [
    "z = np.linspace(0,1,11,endpoint=False)[1:]\n",
    "#start, stop, num=50\n",
    "z"
   ],
   "metadata": {
    "collapsed": false,
    "pycharm": {
     "name": "#%%创建一个长度为10的随机向量，其值域范围从0到1，但是不包括0和1\n"
    }
   }
  },
  {
   "cell_type": "code",
   "execution_count": 32,
   "outputs": [
    {
     "data": {
      "text/plain": "array([0.07005523, 0.27374164, 0.34513962, 0.45266295, 0.54952862,\n       0.57922061, 0.65214809, 0.69256448, 0.83738733, 0.91622623])"
     },
     "execution_count": 32,
     "metadata": {},
     "output_type": "execute_result"
    }
   ],
   "source": [
    "a=np.random.random(10)\n",
    "a\n",
    "a.sort()"
   ],
   "metadata": {
    "collapsed": false,
    "pycharm": {
     "name": "#%%创建一个长度为10的随机向量，并将其排序\n"
    }
   }
  },
  {
   "cell_type": "code",
   "execution_count": 33,
   "outputs": [
    {
     "data": {
      "text/plain": "45"
     },
     "execution_count": 33,
     "metadata": {},
     "output_type": "execute_result"
    }
   ],
   "source": [
    "Z = np.arange(10)\n",
    "np.add.reduce(Z)"
   ],
   "metadata": {
    "collapsed": false,
    "pycharm": {
     "name": "#%%对于一个小数组，如何用比 np.sum更快的方式对其求和？\n"
    }
   }
  },
  {
   "cell_type": "code",
   "execution_count": 34,
   "outputs": [
    {
     "data": {
      "text/plain": "False"
     },
     "execution_count": 34,
     "metadata": {},
     "output_type": "execute_result"
    }
   ],
   "source": [
    "A = np.random.randint(0,2,5)\n",
    "B = np.random.randint(0,2,5)\n",
    "equal = np.array_equal(A,B)\n",
    "equal"
   ],
   "metadata": {
    "collapsed": false,
    "pycharm": {
     "name": "#%%42.对于两个随机数组A和B，检查它们是否相等(\n"
    }
   }
  },
  {
   "cell_type": "code",
   "execution_count": null,
   "outputs": [],
   "source": [],
   "metadata": {
    "collapsed": false,
    "pycharm": {
     "name": "#%%\n"
    }
   }
  }
 ],
 "metadata": {
  "kernelspec": {
   "display_name": "Python 3",
   "language": "python",
   "name": "python3"
  },
  "language_info": {
   "codemirror_mode": {
    "name": "ipython",
    "version": 2
   },
   "file_extension": ".py",
   "mimetype": "text/x-python",
   "name": "python",
   "nbconvert_exporter": "python",
   "pygments_lexer": "ipython2",
   "version": "2.7.6"
  }
 },
 "nbformat": 4,
 "nbformat_minor": 0
}