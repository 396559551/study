{
 "cells": [
  {
   "cell_type": "code",
   "execution_count": 14,
   "metadata": {
    "collapsed": true
   },
   "outputs": [],
   "source": [
    "import numpy as np"
   ]
  },
  {
   "cell_type": "code",
   "execution_count": 15,
   "outputs": [
    {
     "name": "stdout",
     "output_type": "stream",
     "text": [
      "10\n"
     ]
    }
   ],
   "source": [
    "Z = np.random.uniform(0,1,(10,10))\n",
    "U, S, V = np.linalg.svd(Z)\n",
    "# 返回值：\n",
    "# 总共有三个返回值u,s,v\n",
    "# u大小为(M,M)，s大小为(M,N)，v大小为(N,N)。\n",
    "# A = u*s*v\n",
    "# 其中s是对矩阵a的奇异值分解。\n",
    "# s除了对角元素不为0，其他元素都为0，并且对角元素从大到小排列。\n",
    "# s中有n个奇异值，一般排在后面的比较接近0，\n",
    "# 所以仅保留比较大的r个奇异值。# Singular Value Decomposition\n",
    "rank = np.sum(S >0)\n",
    "print (rank)"
   ],
   "metadata": {
    "collapsed": false,
    "pycharm": {
     "name": "#%%计算一个矩阵的秩\n"
    }
   }
  },
  {
   "cell_type": "code",
   "execution_count": 16,
   "outputs": [
    {
     "name": "stdout",
     "output_type": "stream",
     "text": [
      "[0 1 7 6 4 1 9 8 8 3 8 2 7 8 3 0 9 6 1 6 4 6 3 9 5 0 3 7 9 7 9 0 4 2 2 8 4\n",
      " 2 6 0 4 4 4 8 9 0 0 8 1 4]\n",
      "[7 4 4 4 8 1 5 4 7 6]\n",
      "4\n"
     ]
    }
   ],
   "source": [
    "Z = np.random.randint(0,10,50)\n",
    "print(Z)\n",
    "print(np.bincount(Z))\n",
    "print(np.bincount(Z).argmax())"
   ],
   "metadata": {
    "collapsed": false,
    "pycharm": {
     "name": "#%%如何找到一个数组中出现频率最高的值\n"
    }
   }
  },
  {
   "cell_type": "code",
   "execution_count": 17,
   "outputs": [
    {
     "name": "stdout",
     "output_type": "stream",
     "text": [
      "[[[[3 2 4]\n",
      "   [1 0 3]\n",
      "   [4 3 3]]\n",
      "\n",
      "  [[2 4 3]\n",
      "   [0 3 0]\n",
      "   [3 3 1]]\n",
      "\n",
      "  [[4 3 3]\n",
      "   [3 0 3]\n",
      "   [3 1 2]]\n",
      "\n",
      "  [[3 3 4]\n",
      "   [0 3 0]\n",
      "   [1 2 0]]\n",
      "\n",
      "  [[3 4 4]\n",
      "   [3 0 0]\n",
      "   [2 0 4]]\n",
      "\n",
      "  [[4 4 2]\n",
      "   [0 0 3]\n",
      "   [0 4 4]]\n",
      "\n",
      "  [[4 2 0]\n",
      "   [0 3 0]\n",
      "   [4 4 4]]\n",
      "\n",
      "  [[2 0 0]\n",
      "   [3 0 0]\n",
      "   [4 4 3]]]\n",
      "\n",
      "\n",
      " [[[1 0 3]\n",
      "   [4 3 3]\n",
      "   [2 3 1]]\n",
      "\n",
      "  [[0 3 0]\n",
      "   [3 3 1]\n",
      "   [3 1 4]]\n",
      "\n",
      "  [[3 0 3]\n",
      "   [3 1 2]\n",
      "   [1 4 3]]\n",
      "\n",
      "  [[0 3 0]\n",
      "   [1 2 0]\n",
      "   [4 3 4]]\n",
      "\n",
      "  [[3 0 0]\n",
      "   [2 0 4]\n",
      "   [3 4 1]]\n",
      "\n",
      "  [[0 0 3]\n",
      "   [0 4 4]\n",
      "   [4 1 1]]\n",
      "\n",
      "  [[0 3 0]\n",
      "   [4 4 4]\n",
      "   [1 1 4]]\n",
      "\n",
      "  [[3 0 0]\n",
      "   [4 4 3]\n",
      "   [1 4 2]]]\n",
      "\n",
      "\n",
      " [[[4 3 3]\n",
      "   [2 3 1]\n",
      "   [2 1 1]]\n",
      "\n",
      "  [[3 3 1]\n",
      "   [3 1 4]\n",
      "   [1 1 3]]\n",
      "\n",
      "  [[3 1 2]\n",
      "   [1 4 3]\n",
      "   [1 3 0]]\n",
      "\n",
      "  [[1 2 0]\n",
      "   [4 3 4]\n",
      "   [3 0 1]]\n",
      "\n",
      "  [[2 0 4]\n",
      "   [3 4 1]\n",
      "   [0 1 0]]\n",
      "\n",
      "  [[0 4 4]\n",
      "   [4 1 1]\n",
      "   [1 0 4]]\n",
      "\n",
      "  [[4 4 4]\n",
      "   [1 1 4]\n",
      "   [0 4 2]]\n",
      "\n",
      "  [[4 4 3]\n",
      "   [1 4 2]\n",
      "   [4 2 0]]]\n",
      "\n",
      "\n",
      " [[[2 3 1]\n",
      "   [2 1 1]\n",
      "   [1 4 4]]\n",
      "\n",
      "  [[3 1 4]\n",
      "   [1 1 3]\n",
      "   [4 4 2]]\n",
      "\n",
      "  [[1 4 3]\n",
      "   [1 3 0]\n",
      "   [4 2 1]]\n",
      "\n",
      "  [[4 3 4]\n",
      "   [3 0 1]\n",
      "   [2 1 4]]\n",
      "\n",
      "  [[3 4 1]\n",
      "   [0 1 0]\n",
      "   [1 4 3]]\n",
      "\n",
      "  [[4 1 1]\n",
      "   [1 0 4]\n",
      "   [4 3 3]]\n",
      "\n",
      "  [[1 1 4]\n",
      "   [0 4 2]\n",
      "   [3 3 1]]\n",
      "\n",
      "  [[1 4 2]\n",
      "   [4 2 0]\n",
      "   [3 1 1]]]\n",
      "\n",
      "\n",
      " [[[2 1 1]\n",
      "   [1 4 4]\n",
      "   [0 2 1]]\n",
      "\n",
      "  [[1 1 3]\n",
      "   [4 4 2]\n",
      "   [2 1 2]]\n",
      "\n",
      "  [[1 3 0]\n",
      "   [4 2 1]\n",
      "   [1 2 3]]\n",
      "\n",
      "  [[3 0 1]\n",
      "   [2 1 4]\n",
      "   [2 3 4]]\n",
      "\n",
      "  [[0 1 0]\n",
      "   [1 4 3]\n",
      "   [3 4 3]]\n",
      "\n",
      "  [[1 0 4]\n",
      "   [4 3 3]\n",
      "   [4 3 1]]\n",
      "\n",
      "  [[0 4 2]\n",
      "   [3 3 1]\n",
      "   [3 1 3]]\n",
      "\n",
      "  [[4 2 0]\n",
      "   [3 1 1]\n",
      "   [1 3 2]]]\n",
      "\n",
      "\n",
      " [[[1 4 4]\n",
      "   [0 2 1]\n",
      "   [3 1 2]]\n",
      "\n",
      "  [[4 4 2]\n",
      "   [2 1 2]\n",
      "   [1 2 1]]\n",
      "\n",
      "  [[4 2 1]\n",
      "   [1 2 3]\n",
      "   [2 1 4]]\n",
      "\n",
      "  [[2 1 4]\n",
      "   [2 3 4]\n",
      "   [1 4 3]]\n",
      "\n",
      "  [[1 4 3]\n",
      "   [3 4 3]\n",
      "   [4 3 2]]\n",
      "\n",
      "  [[4 3 3]\n",
      "   [4 3 1]\n",
      "   [3 2 2]]\n",
      "\n",
      "  [[3 3 1]\n",
      "   [3 1 3]\n",
      "   [2 2 4]]\n",
      "\n",
      "  [[3 1 1]\n",
      "   [1 3 2]\n",
      "   [2 4 1]]]\n",
      "\n",
      "\n",
      " [[[0 2 1]\n",
      "   [3 1 2]\n",
      "   [1 1 1]]\n",
      "\n",
      "  [[2 1 2]\n",
      "   [1 2 1]\n",
      "   [1 1 1]]\n",
      "\n",
      "  [[1 2 3]\n",
      "   [2 1 4]\n",
      "   [1 1 3]]\n",
      "\n",
      "  [[2 3 4]\n",
      "   [1 4 3]\n",
      "   [1 3 3]]\n",
      "\n",
      "  [[3 4 3]\n",
      "   [4 3 2]\n",
      "   [3 3 0]]\n",
      "\n",
      "  [[4 3 1]\n",
      "   [3 2 2]\n",
      "   [3 0 1]]\n",
      "\n",
      "  [[3 1 3]\n",
      "   [2 2 4]\n",
      "   [0 1 1]]\n",
      "\n",
      "  [[1 3 2]\n",
      "   [2 4 1]\n",
      "   [1 1 3]]]\n",
      "\n",
      "\n",
      " [[[3 1 2]\n",
      "   [1 1 1]\n",
      "   [3 4 2]]\n",
      "\n",
      "  [[1 2 1]\n",
      "   [1 1 1]\n",
      "   [4 2 2]]\n",
      "\n",
      "  [[2 1 4]\n",
      "   [1 1 3]\n",
      "   [2 2 1]]\n",
      "\n",
      "  [[1 4 3]\n",
      "   [1 3 3]\n",
      "   [2 1 2]]\n",
      "\n",
      "  [[4 3 2]\n",
      "   [3 3 0]\n",
      "   [1 2 2]]\n",
      "\n",
      "  [[3 2 2]\n",
      "   [3 0 1]\n",
      "   [2 2 2]]\n",
      "\n",
      "  [[2 2 4]\n",
      "   [0 1 1]\n",
      "   [2 2 4]]\n",
      "\n",
      "  [[2 4 1]\n",
      "   [1 1 3]\n",
      "   [2 4 3]]]]\n"
     ]
    }
   ],
   "source": [
    "Z = np.random.randint(0,5,(10,10))\n",
    "from  numpy.lib import stride_tricks\n",
    "n = 3\n",
    "i = 1 + (Z.shape[0]-3)\n",
    "j = 1 + (Z.shape[1]-3)\n",
    "C = stride_tricks.as_strided(Z, shape=(i, j, n, n), strides=Z.strides + Z.strides)\n",
    "print (C)"
   ],
   "metadata": {
    "collapsed": false,
    "pycharm": {
     "name": "#%%从一个10x10的矩阵中提取出连续的3x3区块\n"
    }
   }
  },
  {
   "cell_type": "code",
   "execution_count": 18,
   "outputs": [
    {
     "name": "stdout",
     "output_type": "stream",
     "text": [
      "[[ 8  8 11  9  3]\n",
      " [ 8  6 11 18 14]\n",
      " [11 11  6 42  8]\n",
      " [ 9 18 42  2  3]\n",
      " [ 3 14  8  3  1]]\n"
     ]
    }
   ],
   "source": [
    "class Symetric(np.ndarray):\n",
    "    def __setitem__(self, index, value):\n",
    "        i,j = index\n",
    "        super(Symetric, self).__setitem__((i,j), value)\n",
    "        super(Symetric, self).__setitem__((j,i), value)\n",
    "\n",
    "def symetric(Z):\n",
    "    return np.asarray(Z + Z.T - np.diag(Z.diagonal())).view(Symetric)\n",
    "\n",
    "S = symetric(np.random.randint(0,10,(5,5)))\n",
    "S[2,3] = 42\n",
    "print (S)"
   ],
   "metadata": {
    "collapsed": false,
    "pycharm": {
     "name": "#%%创建一个满足 Z[i,j] == Z[j,i]的子类\n"
    }
   }
  },
  {
   "cell_type": "code",
   "execution_count": 19,
   "outputs": [
    {
     "name": "stdout",
     "output_type": "stream",
     "text": [
      "[[200.]\n",
      " [200.]\n",
      " [200.]\n",
      " [200.]\n",
      " [200.]\n",
      " [200.]\n",
      " [200.]\n",
      " [200.]\n",
      " [200.]\n",
      " [200.]\n",
      " [200.]\n",
      " [200.]\n",
      " [200.]\n",
      " [200.]\n",
      " [200.]\n",
      " [200.]\n",
      " [200.]\n",
      " [200.]\n",
      " [200.]\n",
      " [200.]]\n"
     ]
    }
   ],
   "source": [
    "#如何直接计算p个矩阵的乘积(n,1)\n",
    "p, n = 10, 20\n",
    "M = np.ones((p,n,n))\n",
    "V = np.ones((p,n,1))\n",
    "S = np.tensordot(M, V, axes=[[0, 2], [0, 1]])\n",
    "print (S)\n",
    "#It works, because:\n",
    "#M is (p,n,n)\n",
    "#V is (p,n,1)\n",
    "#Thus, summing over the paired axes 0 and 0 (of M and V independently),\n",
    "#and 2 and 1, to remain with a (n,1) vector."
   ],
   "metadata": {
    "collapsed": false,
    "pycharm": {
     "name": "#%%虑p个 nxn 矩阵和一组形状为(n,1)的向量，\n"
    }
   }
  },
  {
   "cell_type": "code",
   "execution_count": 20,
   "outputs": [
    {
     "name": "stdout",
     "output_type": "stream",
     "text": [
      "[[16. 16. 16. 16.]\n",
      " [16. 16. 16. 16.]\n",
      " [16. 16. 16. 16.]\n",
      " [16. 16. 16. 16.]]\n"
     ]
    }
   ],
   "source": [
    "#如何得到一个区域(block-sum)的和(区域大小为4x4)?\n",
    "Z = np.ones((16,16))\n",
    "k = 4\n",
    "S = np.add.reduceat(np.add.reduceat(Z, np.arange(0, Z.shape[0], k), axis=0),\n",
    "                                       np.arange(0, Z.shape[1], k), axis=1)\n",
    "print (S)"
   ],
   "metadata": {
    "collapsed": false,
    "pycharm": {
     "name": "#%%对于一个16x16的数组，\n"
    }
   }
  },
  {
   "cell_type": "code",
   "execution_count": 21,
   "outputs": [
    {
     "name": "stdout",
     "output_type": "stream",
     "text": [
      "[[0 0 0 ... 0 0 0]\n",
      " [0 0 1 ... 0 0 0]\n",
      " [0 0 1 ... 0 0 0]\n",
      " ...\n",
      " [0 0 0 ... 0 0 0]\n",
      " [0 0 0 ... 0 0 0]\n",
      " [0 0 0 ... 0 0 0]]\n"
     ]
    }
   ],
   "source": [
    "def iterate(Z):\n",
    "    # Count neighbours\n",
    "    N = (Z[0:-2,0:-2] + Z[0:-2,1:-1] + Z[0:-2,2:] +\n",
    "         Z[1:-1,0:-2]                + Z[1:-1,2:] +\n",
    "         Z[2:  ,0:-2] + Z[2:  ,1:-1] + Z[2:  ,2:])\n",
    "\n",
    "    # Apply rules\n",
    "    birth = (N==3) & (Z[1:-1,1:-1]==0)\n",
    "    survive = ((N==2) | (N==3)) & (Z[1:-1,1:-1]==1)\n",
    "    Z[...] = 0\n",
    "    Z[1:-1,1:-1][birth | survive] = 1\n",
    "    return Z\n",
    "\n",
    "Z = np.random.randint(0,2,(50,50))\n",
    "for i in range(100): Z = iterate(Z)\n",
    "print (Z)"
   ],
   "metadata": {
    "collapsed": false,
    "pycharm": {
     "name": "#%%如何利用numpy数组实现Game of Life\n"
    }
   }
  },
  {
   "cell_type": "code",
   "execution_count": 23,
   "outputs": [
    {
     "data": {
      "text/plain": "array([9998, 9999, 9997, 9995, 9996])"
     },
     "execution_count": 23,
     "metadata": {},
     "output_type": "execute_result"
    }
   ],
   "source": [
    "Z = np.arange(10000)\n",
    "np.random.shuffle(Z)\n",
    "n = 5\n",
    "Z[np.argpartition(-Z,n)[:n]]\n",
    "# numpy.argpartition(a, kth, axis=-1, kind='introselect', order=None)\n",
    "# 需要知道该函数返回的是重组后数据的索引数组\n",
    "# 本文介绍该函数前三个参数，及该函数具体用法。\n",
    "#a:要排序的矩阵，默认升序排列；该参数为-a时，降序排列\n",
    "#kth:  int或int序列。该参数为数组的索引值。具体用法下边举例介绍\n",
    "# axis:int或none，可选。要排序的轴。默认值是-1，它沿着最后一个轴。"
   ],
   "metadata": {
    "collapsed": false,
    "pycharm": {
     "name": "#%% 如何找到一个数组的第n个最大值\n"
    }
   }
  },
  {
   "cell_type": "code",
   "execution_count": 24,
   "outputs": [
    {
     "name": "stdout",
     "output_type": "stream",
     "text": [
      "[[1 4 6]\n",
      " [1 4 7]\n",
      " [1 5 6]\n",
      " [1 5 7]\n",
      " [2 4 6]\n",
      " [2 4 7]\n",
      " [2 5 6]\n",
      " [2 5 7]\n",
      " [3 4 6]\n",
      " [3 4 7]\n",
      " [3 5 6]\n",
      " [3 5 7]]\n"
     ]
    }
   ],
   "source": [
    "def cartesian(arrays):\n",
    "    arrays = [np.asarray(a) for a in arrays]\n",
    "    shape = (len(x) for x in arrays)\n",
    "\n",
    "    ix = np.indices(shape, dtype=int)\n",
    "    ix = ix.reshape(len(arrays), -1).T\n",
    "\n",
    "    for n, arr in enumerate(arrays):\n",
    "        ix[:, n] = arrays[n][ix[:, n]]\n",
    "\n",
    "    return ix\n",
    "\n",
    "print (cartesian(([1, 2, 3], [4, 5], [6, 7])))"
   ],
   "metadata": {
    "collapsed": false,
    "pycharm": {
     "name": "#%%给定任意个数向量，创建笛卡尔积(每一个元素的每一种组合)\n"
    }
   }
  },
  {
   "cell_type": "code",
   "execution_count": null,
   "outputs": [],
   "source": [
    "x = np.random.rand()\n",
    "# np.power(x,3)\n",
    "x*x*x\n",
    "# np.einsum('i,i,i->i',x,x,x)"
   ],
   "metadata": {
    "collapsed": false,
    "pycharm": {
     "name": "#%% 考虑一个大向量Z, 用三种不同的方法计算它的立方\n"
    }
   }
  },
  {
   "cell_type": "code",
   "execution_count": null,
   "outputs": [],
   "source": [
    "A = np.random.randint(0,5,(8,3))\n",
    "B = np.random.randint(0,5,(2,2))\n",
    "C = (A[..., np.newaxis, np.newaxis] == B)\n",
    "rows = np.where(C.any((3,1)).all(1))[0]\n",
    "print (rows)"
   ],
   "metadata": {
    "collapsed": false,
    "pycharm": {
     "name": "#%%考虑两个形状分别为(8,3) 和(2,2)的数组A和B. 如何在数组A中找到满足包含B中元素的行？(不考虑B中每行元素顺序)？\n"
    }
   }
  },
  {
   "cell_type": "code",
   "execution_count": null,
   "outputs": [],
   "source": [
    "Z = np.random.randint(0,5,(10,3))\n",
    "print (Z)\n",
    "Z[Z.max(axis=1) != Z.min(axis=1),:]\n",
    "print (U)"
   ],
   "metadata": {
    "collapsed": false,
    "pycharm": {
     "name": "#%%考虑一个10x3的矩阵，分解出有不全相同值的行 (如 [2,2,3])\n"
    }
   }
  },
  {
   "cell_type": "code",
   "execution_count": null,
   "outputs": [],
   "source": [
    "Z = np.random.randint(0,2,(6,3))\n",
    "T = np.ascontiguousarray(Z).view(np.dtype((np.void, Z.dtype.itemsize * Z.shape[1])))\n",
    "_, idx = np.unique(T, return_index=True)\n",
    "uZ = Z[idx]\n",
    "print (uZ)"
   ],
   "metadata": {
    "collapsed": false,
    "pycharm": {
     "name": "#%%给定一个二维数组，如何提取出唯一的(unique)行\n"
    }
   }
  },
  {
   "cell_type": "code",
   "execution_count": null,
   "outputs": [],
   "source": [
    "#inner, outer, sum, mul函数\n",
    "# A = np.random.uniform(0,1,10)\n",
    "# B = np.random.uniform(0,1,10)\n",
    "# print ('sum')\n",
    "# print (np.einsum('i->', A))# np.sum(A)\n",
    "# print ('A * B')\n",
    "# print (np.einsum('i,i->i', A, B)) # A * B\n",
    "# print ('inner')\n",
    "# print (np.einsum('i,i', A, B))    # np.inner(A, B)\n",
    "# print ('outer')\n",
    "# print (np.einsum('i,j->ij', A, B))    # np.outer(A, B)"
   ],
   "metadata": {
    "collapsed": false,
    "pycharm": {
     "name": "#%%考虑两个向量A和B，写出用einsum等式对应的\n"
    }
   }
  },
  {
   "cell_type": "code",
   "execution_count": 27,
   "outputs": [],
   "source": [
    "#如何用等距样例(equidistant samples)\n",
    "#对其进行采样(sample)?\n",
    "phi = np.arange(0, 10*np.pi, 0.1)\n",
    "a = 1\n",
    "x = a*phi*np.cos(phi)\n",
    "y = a*phi*np.sin(phi)\n",
    "\n",
    "dr = (np.diff(x)**2 + np.diff(y)**2)**.5 # segment lengths\n",
    "r = np.zeros_like(x)\n",
    "r[1:] = np.cumsum(dr)                # integrate path\n",
    "r_int = np.linspace(0, r.max(), 200) # regular spaced path\n",
    "x_int = np.interp(r_int, r, x)       # integrate path\n",
    "y_int = np.interp(r_int, r, y)"
   ],
   "metadata": {
    "collapsed": false,
    "pycharm": {
     "name": "#%% 考虑一个由两个向量描述的路径(X,Y)，\n"
    }
   }
  },
  {
   "cell_type": "code",
   "execution_count": null,
   "outputs": [],
   "source": [
    "X = np.asarray([[1.0, 0.0, 3.0, 8.0],\n",
    "                [2.0, 0.0, 1.0, 1.0],\n",
    "                [1.5, 2.5, 1.0, 0.0]])\n",
    "n = 4\n",
    "M = np.logical_and.reduce(np.mod(X, 1) == 0, axis=-1)\n",
    "M &= (X.sum(axis=-1) == n)\n",
    "print (X[M])"
   ],
   "metadata": {
    "collapsed": false,
    "pycharm": {
     "name": "#%%Given an integer n and a 2D array X, select from X the rows which can be interpreted as draws from a multinomial distribution with n degrees, i.e., the rows which only contain integers and which sum to n.\n"
    }
   }
  },
  {
   "cell_type": "code",
   "execution_count": null,
   "outputs": [],
   "source": [
    "X = np.random.randn(100) # random 1D array\n",
    "N = 1000 # number of bootstrap samples\n",
    "idx = np.random.randint(0, X.size, (N, X.size))\n",
    "means = X[idx].mean(axis=1)\n",
    "confint = np.percentile(means, [2.5, 97.5])\n",
    "print (confint)"
   ],
   "metadata": {
    "collapsed": false,
    "pycharm": {
     "name": "#%% 对于一个一维数组X，计算它boostrapped之后的95%置信区间的平均值\n"
    }
   }
  }
 ],
 "metadata": {
  "kernelspec": {
   "display_name": "Python 3",
   "language": "python",
   "name": "python3"
  },
  "language_info": {
   "codemirror_mode": {
    "name": "ipython",
    "version": 2
   },
   "file_extension": ".py",
   "mimetype": "text/x-python",
   "name": "python",
   "nbconvert_exporter": "python",
   "pygments_lexer": "ipython2",
   "version": "2.7.6"
  }
 },
 "nbformat": 4,
 "nbformat_minor": 0
}