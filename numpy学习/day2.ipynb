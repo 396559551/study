{
 "cells": [
  {
   "cell_type": "code",
   "execution_count": 4,
   "metadata": {
    "collapsed": true
   },
   "outputs": [],
   "source": [
    "import numpy as np"
   ]
  },
  {
   "cell_type": "code",
   "execution_count": 8,
   "outputs": [
    {
     "data": {
      "text/plain": "array([[[0.64400733, 0.81212455, 0.44130201],\n        [0.28508034, 0.12906757, 0.40612686],\n        [0.32440258, 0.48762674, 0.72262022]],\n\n       [[0.25802715, 0.17051126, 0.2993223 ],\n        [0.09912724, 0.35380416, 0.61433257],\n        [0.66589875, 0.40499155, 0.37547638]],\n\n       [[0.33360351, 0.66004456, 0.65835589],\n        [0.87935566, 0.81174459, 0.49899782],\n        [0.76734915, 0.09455934, 0.24481032]]])"
     },
     "execution_count": 8,
     "metadata": {},
     "output_type": "execute_result"
    }
   ],
   "source": [
    "np.random.random((3,3,3))"
   ],
   "metadata": {
    "collapsed": false,
    "pycharm": {
     "name": "#%%创建一个 3x3x3的随机数组\n"
    }
   }
  },
  {
   "cell_type": "code",
   "execution_count": 13,
   "outputs": [
    {
     "name": "stdout",
     "output_type": "stream",
     "text": [
      "0.9927298618149915 0.005067893869107887\n"
     ]
    }
   ],
   "source": [
    "a=np.random.random((10,10))\n",
    "max=a.max()\n",
    "min=a.min()\n",
    "print(max,min)"
   ],
   "metadata": {
    "collapsed": false,
    "pycharm": {
     "name": "#%%创建一个 10x10 的随机数组并找到它的最大值和最小值\n"
    }
   }
  },
  {
   "cell_type": "code",
   "execution_count": 16,
   "outputs": [
    {
     "name": "stdout",
     "output_type": "stream",
     "text": [
      "0.4956917542053557 0.4956917542053557\n"
     ]
    }
   ],
   "source": [
    "b=np.random.random(30)\n",
    "np.average(b)\n",
    "np.mean(b)"
   ],
   "metadata": {
    "collapsed": false,
    "pycharm": {
     "name": "#%%创建一个长度为30的随机向量并找到它的平均值\n"
    }
   }
  },
  {
   "cell_type": "code",
   "execution_count": 19,
   "outputs": [
    {
     "data": {
      "text/plain": "array([[1., 1., 1., 1., 1., 1., 1., 1., 1., 1.],\n       [1., 0., 0., 0., 0., 0., 0., 0., 0., 1.],\n       [1., 0., 0., 0., 0., 0., 0., 0., 0., 1.],\n       [1., 0., 0., 0., 0., 0., 0., 0., 0., 1.],\n       [1., 0., 0., 0., 0., 0., 0., 0., 0., 1.],\n       [1., 0., 0., 0., 0., 0., 0., 0., 0., 1.],\n       [1., 0., 0., 0., 0., 0., 0., 0., 0., 1.],\n       [1., 0., 0., 0., 0., 0., 0., 0., 0., 1.],\n       [1., 0., 0., 0., 0., 0., 0., 0., 0., 1.],\n       [1., 1., 1., 1., 1., 1., 1., 1., 1., 1.]])"
     },
     "execution_count": 19,
     "metadata": {},
     "output_type": "execute_result"
    }
   ],
   "source": [
    "b=np.ones((10,10))\n",
    "b[1:-1,1:-1]=0\n",
    "b\n",
    "#1:-1表示从1到最后但不包含最后\n",
    "#1：则是包含"
   ],
   "metadata": {
    "collapsed": false,
    "pycharm": {
     "name": "#%% 创建一个二维数组，其中边界值为1，其余值为0\n"
    }
   }
  },
  {
   "cell_type": "code",
   "execution_count": 20,
   "outputs": [
    {
     "data": {
      "text/plain": "array([[0., 0., 0., 0., 0., 0., 0., 0., 0., 0., 0., 0.],\n       [0., 1., 1., 1., 1., 1., 1., 1., 1., 1., 1., 0.],\n       [0., 1., 1., 1., 1., 1., 1., 1., 1., 1., 1., 0.],\n       [0., 1., 1., 1., 1., 1., 1., 1., 1., 1., 1., 0.],\n       [0., 1., 1., 1., 1., 1., 1., 1., 1., 1., 1., 0.],\n       [0., 1., 1., 1., 1., 1., 1., 1., 1., 1., 1., 0.],\n       [0., 1., 1., 1., 1., 1., 1., 1., 1., 1., 1., 0.],\n       [0., 1., 1., 1., 1., 1., 1., 1., 1., 1., 1., 0.],\n       [0., 1., 1., 1., 1., 1., 1., 1., 1., 1., 1., 0.],\n       [0., 1., 1., 1., 1., 1., 1., 1., 1., 1., 1., 0.],\n       [0., 1., 1., 1., 1., 1., 1., 1., 1., 1., 1., 0.],\n       [0., 0., 0., 0., 0., 0., 0., 0., 0., 0., 0., 0.]])"
     },
     "execution_count": 20,
     "metadata": {},
     "output_type": "execute_result"
    }
   ],
   "source": [
    "c=np.ones((10,10))\n",
    "np.pad(c, pad_width=1, mode='constant', constant_values=0)"
   ],
   "metadata": {
    "collapsed": false,
    "pycharm": {
     "name": "#%%对于一个存在在数组，如何添加一个用0填充的边界\n"
    }
   }
  },
  {
   "cell_type": "code",
   "execution_count": 24,
   "outputs": [
    {
     "data": {
      "text/plain": "array([[0, 0, 1, 0, 0, 0],\n       [0, 0, 0, 2, 0, 0],\n       [0, 0, 0, 0, 3, 0],\n       [0, 0, 0, 0, 0, 4],\n       [0, 0, 0, 0, 0, 0],\n       [0, 0, 0, 0, 0, 0]])"
     },
     "execution_count": 24,
     "metadata": {},
     "output_type": "execute_result"
    }
   ],
   "source": [
    "c=np.random.random((5,5))\n",
    "np.diag(np.arange(4)+1)"
   ],
   "metadata": {
    "collapsed": false,
    "pycharm": {
     "name": "#%%创建一个 5x5的矩阵，并设置值1,2,3,4落在其对角线下方位置\n"
    }
   }
  },
  {
   "cell_type": "code",
   "execution_count": 30,
   "outputs": [
    {
     "data": {
      "text/plain": "array([[0., 0., 0., 0., 0., 0., 0., 0., 0.],\n       [1., 0., 1., 0., 1., 0., 1., 0., 1.],\n       [0., 0., 0., 0., 0., 0., 0., 0., 0.],\n       [1., 0., 1., 0., 1., 0., 1., 0., 1.],\n       [0., 0., 0., 0., 0., 0., 0., 0., 0.],\n       [1., 0., 1., 0., 1., 0., 1., 0., 1.],\n       [0., 0., 0., 0., 0., 0., 0., 0., 0.],\n       [1., 0., 1., 0., 1., 0., 1., 0., 1.],\n       [0., 0., 0., 0., 0., 0., 0., 0., 0.]])"
     },
     "execution_count": 30,
     "metadata": {},
     "output_type": "execute_result"
    }
   ],
   "source": [
    "d=np.zeros((8,8))\n",
    "d[1::2,::2]=1\n",
    "d[::2,1::2]=1\n",
    "d"
   ],
   "metadata": {
    "collapsed": false,
    "pycharm": {
     "name": "#%%创建一个8x8 的矩阵，并且设置成棋盘样式\n"
    }
   }
  },
  {
   "cell_type": "code",
   "execution_count": 31,
   "outputs": [
    {
     "name": "stdout",
     "output_type": "stream",
     "text": [
      "(1, 5, 4)\n"
     ]
    }
   ],
   "source": [
    "print(np.unravel_index(100,(6,7,8)))"
   ],
   "metadata": {
    "collapsed": false,
    "pycharm": {
     "name": "#%%考虑一个 (6,7,8) 形状的数组，其第100个元素的索引(x,y,z)是什么\n"
    }
   }
  },
  {
   "cell_type": "code",
   "execution_count": 39,
   "outputs": [
    {
     "data": {
      "text/plain": "array([[0, 1, 0, 1, 0, 1, 0, 1],\n       [1, 0, 1, 0, 1, 0, 1, 0],\n       [0, 1, 0, 1, 0, 1, 0, 1],\n       [1, 0, 1, 0, 1, 0, 1, 0],\n       [0, 1, 0, 1, 0, 1, 0, 1],\n       [1, 0, 1, 0, 1, 0, 1, 0],\n       [0, 1, 0, 1, 0, 1, 0, 1],\n       [1, 0, 1, 0, 1, 0, 1, 0]])"
     },
     "execution_count": 39,
     "metadata": {},
     "output_type": "execute_result"
    }
   ],
   "source": [
    "np.tile(np.array([[0,1],[1,0]]),(4,4))"
   ],
   "metadata": {
    "collapsed": false,
    "pycharm": {
     "name": "#%%21.用tile函数去创建一个 8x8的棋盘样式矩阵\n"
    }
   }
  },
  {
   "cell_type": "code",
   "execution_count": null,
   "outputs": [],
   "source": [],
   "metadata": {
    "collapsed": false,
    "pycharm": {
     "name": "#%%\n"
    }
   }
  }
 ],
 "metadata": {
  "kernelspec": {
   "name": "pycharm-e081fc9f",
   "language": "python",
   "display_name": "PyCharm (IdealData)"
  },
  "language_info": {
   "codemirror_mode": {
    "name": "ipython",
    "version": 2
   },
   "file_extension": ".py",
   "mimetype": "text/x-python",
   "name": "python",
   "nbconvert_exporter": "python",
   "pygments_lexer": "ipython2",
   "version": "2.7.6"
  }
 },
 "nbformat": 4,
 "nbformat_minor": 0
}