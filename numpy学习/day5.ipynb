{
 "cells": [
  {
   "cell_type": "code",
   "execution_count": 1,
   "metadata": {
    "collapsed": true
   },
   "outputs": [],
   "source": [
    "import numpy as np"
   ]
  },
  {
   "cell_type": "code",
   "execution_count": 3,
   "outputs": [
    {
     "name": "stdout",
     "output_type": "stream",
     "text": [
      "float64\n"
     ]
    }
   ],
   "source": [
    "Z = np.random.uniform(0,1,10)\n",
    "z = 0.5\n",
    "m = Z.flat[np.abs(Z - z).argmin()]\n",
    "print (m)"
   ],
   "metadata": {
    "collapsed": false,
    "pycharm": {
     "name": "#%%从数组中的给定值中找出最近的值\n"
    }
   }
  },
  {
   "cell_type": "code",
   "execution_count": 4,
   "outputs": [
    {
     "name": "stdout",
     "output_type": "stream",
     "text": [
      "[[0 1 2]\n",
      " [1 2 3]\n",
      " [2 3 4]]\n"
     ]
    }
   ],
   "source": [
    "A = np.arange(3).reshape(3,1)\n",
    "B = np.arange(3).reshape(1,3)\n",
    "it = np.nditer([A,B,None])\n",
    "for x,y,z in it:\n",
    "    z[...] = x + y\n",
    "print (it.operands[2])"
   ],
   "metadata": {
    "collapsed": false,
    "pycharm": {
     "name": "#%%如何用迭代器(iterator)计算两个分别具有形状(1,3)和(3,1)的数组?\n"
    }
   }
  },
  {
   "cell_type": "code",
   "execution_count": 5,
   "outputs": [
    {
     "name": "stdout",
     "output_type": "stream",
     "text": [
      "range_10\n"
     ]
    }
   ],
   "source": [
    "class NamedArray(np.ndarray):\n",
    "    def __new__(cls, array, name=\"no name\"):\n",
    "        obj = np.asarray(array).view(cls)\n",
    "        obj.name = name\n",
    "        return obj\n",
    "    def __array_finalize__(self, obj):\n",
    "        if obj is None: return\n",
    "        self.info = getattr(obj, 'name', \"no name\")\n",
    "\n",
    "Z = NamedArray(np.arange(10), \"range_10\")\n",
    "print (Z.name)"
   ],
   "metadata": {
    "collapsed": false,
    "pycharm": {
     "name": "#%%创建一个具有name属性的数组类\n"
    }
   }
  },
  {
   "cell_type": "code",
   "execution_count": 8,
   "outputs": [
    {
     "name": "stdout",
     "output_type": "stream",
     "text": [
      "[3. 2. 3. 5. 2. 2. 2. 2. 5. 4.]\n",
      "[3 9 6 9 3 8 0 3 8 7 2 8 4 5 3 2 9 1 8 0]\n"
     ]
    }
   ],
   "source": [
    "Z = np.ones(10)\n",
    "I = np.random.randint(0,len(Z),20)\n",
    "np.add.at(Z, I, 1)\n",
    "#np.add.at()是将传入的数组中制定下标位置的元素加上指定的值\n",
    "# I的下标对应的Z值加1\n",
    "print(Z)\n",
    "print(I)"
   ],
   "metadata": {
    "collapsed": false,
    "pycharm": {
     "name": "#%%考虑一个给定的向量，如何对由第二个向量索引的每个元素加1\n"
    }
   }
  },
  {
   "cell_type": "code",
   "execution_count": 9,
   "outputs": [
    {
     "name": "stdout",
     "output_type": "stream",
     "text": [
      "[0. 7. 0. 6. 5. 0. 0. 0. 0. 3.]\n"
     ]
    }
   ],
   "source": [
    "X = [1,2,3,4,5,6]\n",
    "I = [1,3,9,3,4,1]\n",
    "F = np.bincount(I,X)\n",
    "print (F)"
   ],
   "metadata": {
    "collapsed": false,
    "pycharm": {
     "name": "#%%根据索引列表(I)，如何将向量(X)的元素累加到数组(F)\n"
    }
   }
  },
  {
   "cell_type": "code",
   "execution_count": 12,
   "outputs": [
    {
     "name": "stdout",
     "output_type": "stream",
     "text": [
      "8\n",
      "[[[0 1 1]\n",
      "  [0 1 1]\n",
      "  [0 0 1]\n",
      "  [0 1 1]\n",
      "  [0 0 1]\n",
      "  [0 1 0]\n",
      "  [0 0 1]\n",
      "  [1 1 1]\n",
      "  [1 0 1]\n",
      "  [1 1 0]\n",
      "  [1 0 0]\n",
      "  [0 1 1]\n",
      "  [0 0 0]\n",
      "  [1 0 1]\n",
      "  [0 0 1]\n",
      "  [1 0 0]]\n",
      "\n",
      " [[0 1 1]\n",
      "  [0 0 1]\n",
      "  [0 1 0]\n",
      "  [0 1 1]\n",
      "  [1 0 0]\n",
      "  [1 1 0]\n",
      "  [0 1 1]\n",
      "  [1 0 0]\n",
      "  [0 1 0]\n",
      "  [1 1 1]\n",
      "  [0 0 0]\n",
      "  [1 1 0]\n",
      "  [1 1 0]\n",
      "  [1 1 1]\n",
      "  [1 1 0]\n",
      "  [0 1 0]]\n",
      "\n",
      " [[0 0 0]\n",
      "  [0 0 0]\n",
      "  [0 1 0]\n",
      "  [0 0 1]\n",
      "  [0 0 0]\n",
      "  [0 0 0]\n",
      "  [1 0 0]\n",
      "  [1 1 1]\n",
      "  [0 0 1]\n",
      "  [1 1 0]\n",
      "  [0 1 0]\n",
      "  [1 1 0]\n",
      "  [0 1 1]\n",
      "  [1 1 0]\n",
      "  [0 1 0]\n",
      "  [1 0 1]]\n",
      "\n",
      " [[0 0 0]\n",
      "  [1 0 1]\n",
      "  [0 0 1]\n",
      "  [1 1 1]\n",
      "  [0 1 0]\n",
      "  [0 1 1]\n",
      "  [1 0 0]\n",
      "  [0 1 1]\n",
      "  [1 1 1]\n",
      "  [1 0 1]\n",
      "  [1 0 0]\n",
      "  [1 0 0]\n",
      "  [0 1 0]\n",
      "  [1 1 1]\n",
      "  [1 0 0]\n",
      "  [1 1 0]]\n",
      "\n",
      " [[1 0 1]\n",
      "  [0 0 0]\n",
      "  [0 0 1]\n",
      "  [0 0 0]\n",
      "  [0 1 0]\n",
      "  [0 0 0]\n",
      "  [0 1 1]\n",
      "  [0 1 0]\n",
      "  [0 1 1]\n",
      "  [0 0 1]\n",
      "  [0 1 1]\n",
      "  [1 0 0]\n",
      "  [0 1 1]\n",
      "  [1 1 1]\n",
      "  [1 0 0]\n",
      "  [0 0 1]]\n",
      "\n",
      " [[0 1 1]\n",
      "  [1 1 1]\n",
      "  [0 1 1]\n",
      "  [1 1 0]\n",
      "  [1 1 0]\n",
      "  [1 1 1]\n",
      "  [1 1 0]\n",
      "  [0 1 0]\n",
      "  [1 1 1]\n",
      "  [0 1 1]\n",
      "  [0 1 0]\n",
      "  [1 1 0]\n",
      "  [0 0 1]\n",
      "  [0 0 0]\n",
      "  [1 1 1]\n",
      "  [0 1 0]]\n",
      "\n",
      " [[0 0 0]\n",
      "  [0 0 1]\n",
      "  [0 0 0]\n",
      "  [0 0 0]\n",
      "  [0 0 1]\n",
      "  [0 0 1]\n",
      "  [0 1 1]\n",
      "  [1 1 0]\n",
      "  [1 1 1]\n",
      "  [0 0 1]\n",
      "  [0 0 1]\n",
      "  [0 0 1]\n",
      "  [1 1 0]\n",
      "  [1 1 0]\n",
      "  [1 1 1]\n",
      "  [0 0 0]]\n",
      "\n",
      " [[1 1 1]\n",
      "  [0 0 1]\n",
      "  [1 0 0]\n",
      "  [1 1 1]\n",
      "  [0 0 0]\n",
      "  [0 1 1]\n",
      "  [0 0 0]\n",
      "  [1 1 0]\n",
      "  [0 1 1]\n",
      "  [0 1 1]\n",
      "  [0 1 1]\n",
      "  [1 0 0]\n",
      "  [0 1 0]\n",
      "  [1 0 0]\n",
      "  [0 1 1]\n",
      "  [1 1 1]]\n",
      "\n",
      " [[1 0 0]\n",
      "  [0 1 1]\n",
      "  [0 1 1]\n",
      "  [1 1 1]\n",
      "  [0 1 0]\n",
      "  [0 1 1]\n",
      "  [1 0 1]\n",
      "  [0 0 1]\n",
      "  [0 1 0]\n",
      "  [1 0 1]\n",
      "  [0 1 0]\n",
      "  [0 1 1]\n",
      "  [0 0 0]\n",
      "  [0 0 0]\n",
      "  [1 0 0]\n",
      "  [0 0 1]]\n",
      "\n",
      " [[1 0 1]\n",
      "  [1 0 0]\n",
      "  [1 0 0]\n",
      "  [0 1 0]\n",
      "  [0 0 1]\n",
      "  [0 1 0]\n",
      "  [0 0 1]\n",
      "  [1 1 0]\n",
      "  [0 0 0]\n",
      "  [1 1 1]\n",
      "  [1 0 1]\n",
      "  [0 1 1]\n",
      "  [1 0 0]\n",
      "  [1 1 0]\n",
      "  [1 1 1]\n",
      "  [1 0 1]]\n",
      "\n",
      " [[0 1 0]\n",
      "  [1 0 1]\n",
      "  [1 0 1]\n",
      "  [1 1 1]\n",
      "  [0 0 1]\n",
      "  [1 1 0]\n",
      "  [1 1 0]\n",
      "  [1 1 0]\n",
      "  [0 1 0]\n",
      "  [1 0 1]\n",
      "  [0 1 0]\n",
      "  [0 1 1]\n",
      "  [1 0 0]\n",
      "  [1 1 0]\n",
      "  [1 0 1]\n",
      "  [0 1 0]]\n",
      "\n",
      " [[0 0 1]\n",
      "  [0 0 1]\n",
      "  [1 1 0]\n",
      "  [0 1 0]\n",
      "  [0 0 1]\n",
      "  [0 0 0]\n",
      "  [0 0 1]\n",
      "  [1 0 1]\n",
      "  [0 0 1]\n",
      "  [1 0 0]\n",
      "  [0 0 0]\n",
      "  [1 0 1]\n",
      "  [0 1 1]\n",
      "  [0 1 1]\n",
      "  [0 1 0]\n",
      "  [1 1 0]]\n",
      "\n",
      " [[1 0 0]\n",
      "  [0 0 0]\n",
      "  [0 1 0]\n",
      "  [0 1 1]\n",
      "  [0 0 0]\n",
      "  [1 1 0]\n",
      "  [1 0 0]\n",
      "  [0 1 1]\n",
      "  [1 1 0]\n",
      "  [1 0 0]\n",
      "  [0 0 1]\n",
      "  [1 0 1]\n",
      "  [1 0 1]\n",
      "  [0 0 0]\n",
      "  [0 1 1]\n",
      "  [0 0 1]]\n",
      "\n",
      " [[0 0 1]\n",
      "  [1 1 1]\n",
      "  [0 1 1]\n",
      "  [1 1 1]\n",
      "  [0 0 1]\n",
      "  [0 0 0]\n",
      "  [1 0 1]\n",
      "  [1 1 0]\n",
      "  [1 1 0]\n",
      "  [0 0 0]\n",
      "  [1 0 1]\n",
      "  [0 1 0]\n",
      "  [0 0 1]\n",
      "  [0 0 0]\n",
      "  [0 1 0]\n",
      "  [1 1 1]]\n",
      "\n",
      " [[1 0 0]\n",
      "  [1 0 1]\n",
      "  [1 0 1]\n",
      "  [0 1 1]\n",
      "  [0 0 1]\n",
      "  [0 0 1]\n",
      "  [0 0 0]\n",
      "  [0 1 0]\n",
      "  [1 1 0]\n",
      "  [0 0 1]\n",
      "  [0 1 0]\n",
      "  [0 1 1]\n",
      "  [0 1 0]\n",
      "  [0 1 0]\n",
      "  [0 1 1]\n",
      "  [1 1 1]]\n",
      "\n",
      " [[0 0 0]\n",
      "  [1 1 1]\n",
      "  [1 0 0]\n",
      "  [0 0 1]\n",
      "  [0 0 1]\n",
      "  [1 1 0]\n",
      "  [0 1 0]\n",
      "  [1 1 1]\n",
      "  [1 0 1]\n",
      "  [0 0 0]\n",
      "  [1 1 1]\n",
      "  [1 1 1]\n",
      "  [0 0 1]\n",
      "  [1 1 1]\n",
      "  [1 0 0]\n",
      "  [0 1 0]]]\n",
      "[[  257   257     1   257     1   256     1 65793 65537 65792 65536   257\n",
      "      0 65537     1 65536]\n",
      " [  257     1   256   257 65536 65792   257 65536   256 65793     0 65792\n",
      "  65792 65793 65792   256]\n",
      " [    0     0   256     1     0     0 65536 65793     1 65792   256 65792\n",
      "    257 65792   256 65537]\n",
      " [    0 65537     1 65793   256   257 65536   257 65793 65537 65536 65536\n",
      "    256 65793 65536 65792]\n",
      " [65537     0     1     0   256     0   257   256   257     1   257 65536\n",
      "    257 65793 65536     1]\n",
      " [  257 65793   257 65792 65792 65793 65792   256 65793   257   256 65792\n",
      "      1     0 65793   256]\n",
      " [    0     1     0     0     1     1   257 65792 65793     1     1     1\n",
      "  65792 65792 65793     0]\n",
      " [65793     1 65536 65793     0   257     0 65792   257   257   257 65536\n",
      "    256 65536   257 65793]\n",
      " [65536   257   257 65793   256   257 65537     1   256 65537   256   257\n",
      "      0     0 65536     1]\n",
      " [65537 65536 65536   256     1   256     1 65792     0 65793 65537   257\n",
      "  65536 65792 65793 65537]\n",
      " [  256 65537 65537 65793     1 65792 65792 65792   256 65537   256   257\n",
      "  65536 65792 65537   256]\n",
      " [    1     1 65792   256     1     0     1 65537     1 65536     0 65537\n",
      "    257   257   256 65792]\n",
      " [65536     0   256   257     0 65792 65536   257 65792 65536     1 65537\n",
      "  65537     0   257     1]\n",
      " [    1 65793   257 65793     1     0 65537 65792 65792     0 65537   256\n",
      "      1     0   256 65793]\n",
      " [65536 65537 65537   257     1     1     0   256 65792     1   256   257\n",
      "    256   256   257 65793]\n",
      " [    0 65793 65536     1     1 65792   256 65793 65537     0 65793 65793\n",
      "      1 65793 65536   256]]\n"
     ]
    }
   ],
   "source": [
    "w,h = 16,16\n",
    "I = np.random.randint(0,2,(h,w,3)).astype(np.ubyte)\n",
    "#Note that we should compute 256*256 first.\n",
    "#Otherwise numpy will only promote F.dtype to 'uint16' and overfolw will occur\n",
    "F = I[...,0]*(256*256) + I[...,1]*256 +I[...,2]\n",
    "n = len(np.unique(F))\n",
    "print (n)\n",
    "print (I)\n",
    "print(F)"
   ],
   "metadata": {
    "collapsed": false,
    "pycharm": {
     "name": "#%%考虑一个(dtype=ubyte) 的 (w,h,3)图像，计算其唯一颜色的数量\n"
    }
   }
  },
  {
   "cell_type": "code",
   "execution_count": 17,
   "outputs": [],
   "source": [
    "a=np.arange(16).reshape((2,2,2,2))\n",
    "sum = a.reshape(a.shape[:-2] + (-1,)).sum(axis=-1)"
   ],
   "metadata": {
    "collapsed": false,
    "pycharm": {
     "name": "#%%考虑一个四维数组，如何一次性计算出最后两个轴(axis)的和\n"
    }
   }
  },
  {
   "cell_type": "code",
   "execution_count": 18,
   "outputs": [
    {
     "ename": "NameError",
     "evalue": "name 'D' is not defined",
     "output_type": "error",
     "traceback": [
      "\u001B[1;31m---------------------------------------------------------------------------\u001B[0m",
      "\u001B[1;31mNameError\u001B[0m                                 Traceback (most recent call last)",
      "\u001B[1;32m<ipython-input-18-d6b45e8ec703>\u001B[0m in \u001B[0;36m<module>\u001B[1;34m\u001B[0m\n\u001B[0;32m      1\u001B[0m \u001B[1;32mimport\u001B[0m \u001B[0mpandas\u001B[0m \u001B[1;32mas\u001B[0m \u001B[0mpd\u001B[0m\u001B[1;33m\u001B[0m\u001B[1;33m\u001B[0m\u001B[0m\n\u001B[1;32m----> 2\u001B[1;33m \u001B[0mprint\u001B[0m\u001B[1;33m(\u001B[0m\u001B[0mpd\u001B[0m\u001B[1;33m.\u001B[0m\u001B[0mSeries\u001B[0m\u001B[1;33m(\u001B[0m\u001B[0mD\u001B[0m\u001B[1;33m)\u001B[0m\u001B[1;33m.\u001B[0m\u001B[0mgroupby\u001B[0m\u001B[1;33m(\u001B[0m\u001B[0mS\u001B[0m\u001B[1;33m)\u001B[0m\u001B[1;33m.\u001B[0m\u001B[0mmean\u001B[0m\u001B[1;33m(\u001B[0m\u001B[1;33m)\u001B[0m\u001B[1;33m)\u001B[0m\u001B[1;33m\u001B[0m\u001B[1;33m\u001B[0m\u001B[0m\n\u001B[0m\u001B[0;32m      3\u001B[0m \u001B[1;33m\u001B[0m\u001B[0m\n\u001B[0;32m      4\u001B[0m \u001B[1;33m\u001B[0m\u001B[0m\n\u001B[0;32m      5\u001B[0m \u001B[1;33m\u001B[0m\u001B[0m\n",
      "\u001B[1;31mNameError\u001B[0m: name 'D' is not defined"
     ]
    }
   ],
   "source": [
    "D = np.random.uniform(0,1,100)\n",
    "S = np.random.randint(0,10,100)\n",
    "import pandas as pd\n",
    "print(pd.Series(D).groupby(S).mean())"
   ],
   "metadata": {
    "collapsed": false,
    "pycharm": {
     "name": "#%%考虑一个一维向量D，如何使用相同大小的向量S来计算D子集的均值\n"
    }
   }
  },
  {
   "cell_type": "code",
   "execution_count": 19,
   "outputs": [
    {
     "data": {
      "text/plain": "array([2.33140831, 1.16208855, 0.3010052 , 1.42198903, 1.34036733])"
     },
     "execution_count": 19,
     "metadata": {},
     "output_type": "execute_result"
    }
   ],
   "source": [
    "A = np.random.uniform(0,1,(5,5))\n",
    "B = np.random.uniform(0,1,(5,5))\n",
    "np.einsum(\"ij,ji->i\", A, B)\n",
    "# np.sum(A * B.T, axis=1)"
   ],
   "metadata": {
    "collapsed": false,
    "pycharm": {
     "name": "#%% 如何获得点积 dot prodcut的对角线\n"
    }
   }
  },
  {
   "cell_type": "code",
   "execution_count": 20,
   "outputs": [
    {
     "name": "stdout",
     "output_type": "stream",
     "text": [
      "[1. 0. 0. 0. 2. 0. 0. 0. 3. 0. 0. 0. 4. 0. 0. 0. 5.]\n"
     ]
    }
   ],
   "source": [
    "Z = np.array([1,2,3,4,5])\n",
    "nz = 3\n",
    "Z0 = np.zeros(len(Z) + (len(Z)-1)*(nz))\n",
    "Z0[::nz+1] = Z\n",
    "print (Z0)"
   ],
   "metadata": {
    "collapsed": false,
    "pycharm": {
     "name": "#%%虑一个向量[1,2,3,4,5],如何建立一个新的向量，在这个新向量中每个值之间有3个连续的零\n"
    }
   }
  },
  {
   "cell_type": "code",
   "execution_count": 22,
   "outputs": [],
   "source": [
    "a=np.ones((5,5,3))\n",
    "b=np.ones((5,5))\n",
    "c=a*b[:,:,None]"
   ],
   "metadata": {
    "collapsed": false,
    "pycharm": {
     "name": "#%% 考虑一个维度(5,5,3)的数组，如何将其与一个(5,5)的数组相乘？\n"
    }
   }
  },
  {
   "cell_type": "code",
   "execution_count": null,
   "outputs": [],
   "source": [
    "A = np.arange(25).reshape(5,5)\n",
    "A[[0,1]] = A[[1,0]]\n",
    "print (A)"
   ],
   "metadata": {
    "collapsed": false,
    "pycharm": {
     "name": "#%%如何对一个数组中任意两行做交换\n"
    }
   }
  },
  {
   "cell_type": "code",
   "execution_count": 23,
   "outputs": [
    {
     "name": "stdout",
     "output_type": "stream",
     "text": [
      "[( 0, 11) ( 0, 30) ( 1, 31) ( 1, 70) ( 1, 77) ( 1, 87) (11, 30) (16, 48)\n",
      " (22, 38) (22, 67) (24, 48) (24, 98) (26, 43) (26, 54) (28, 28) (28, 41)\n",
      " (31, 87) (35, 63) (35, 76) (38, 67) (43, 53) (43, 54) (43, 56) (48, 48)\n",
      " (48, 98) (53, 56) (63, 76) (70, 77)]\n"
     ]
    }
   ],
   "source": [
    "faces = np.random.randint(0,100,(10,3))\n",
    "F = np.roll(faces.repeat(2,axis=1),-1,axis=1)\n",
    "F = F.reshape(len(F)*3,2)\n",
    "F = np.sort(F,axis=1)\n",
    "G = F.view( dtype=[('p0',F.dtype),('p1',F.dtype)] )\n",
    "G = np.unique(G)\n",
    "print (G)"
   ],
   "metadata": {
    "collapsed": false,
    "pycharm": {
     "name": "#%%考虑一个可以描述10个三角形的triplets，找到可以分割全部三角形的line segment\n"
    }
   }
  },
  {
   "cell_type": "code",
   "execution_count": 24,
   "outputs": [
    {
     "name": "stdout",
     "output_type": "stream",
     "text": [
      "[1 1 2 3 4 4 6]\n"
     ]
    }
   ],
   "source": [
    "C = np.bincount([1,1,2,3,4,4,6])\n",
    "A = np.repeat(np.arange(len(C)), C)\n",
    "print (A)"
   ],
   "metadata": {
    "collapsed": false,
    "pycharm": {
     "name": "#%%给定一个二进制的数组C，如何产生一个数组A满足np.bincount(A)==C\n"
    }
   }
  },
  {
   "cell_type": "code",
   "execution_count": 25,
   "outputs": [
    {
     "name": "stdout",
     "output_type": "stream",
     "text": [
      "[ 1.  2.  3.  4.  5.  6.  7.  8.  9. 10. 11. 12. 13. 14. 15. 16. 17. 18.]\n"
     ]
    }
   ],
   "source": [
    "def moving_average(a, n=3) :\n",
    "    ret = np.cumsum(a, dtype=float)\n",
    "    ret[n:] = ret[n:] - ret[:-n]\n",
    "    return ret[n - 1:] / n\n",
    "Z = np.arange(20)\n",
    "#https://blog.csdn.net/qq_36165570/article/details/99594949\n",
    "print(moving_average(Z, n=3))"
   ],
   "metadata": {
    "collapsed": false,
    "pycharm": {
     "name": "#%%如何通过滑动窗口计算一个数组的平均数\n"
    }
   }
  },
  {
   "cell_type": "code",
   "execution_count": 26,
   "outputs": [
    {
     "name": "stdout",
     "output_type": "stream",
     "text": [
      "[[0 1 2]\n",
      " [1 2 3]\n",
      " [2 3 4]\n",
      " [3 4 5]\n",
      " [4 5 6]\n",
      " [5 6 7]\n",
      " [6 7 8]\n",
      " [7 8 9]]\n"
     ]
    }
   ],
   "source": [
    "from numpy.lib import stride_tricks\n",
    "\n",
    "def rolling(a, window):\n",
    "    shape = (a.size - window + 1, window)\n",
    "    strides = (a.itemsize, a.itemsize)\n",
    "    return stride_tricks.as_strided(a, shape=shape, strides=strides)\n",
    "Z = rolling(np.arange(10), 3)\n",
    "\n",
    "print (Z)"
   ],
   "metadata": {
    "collapsed": false,
    "pycharm": {
     "name": "#%%Consider a one-dimensional array Z, build a two-dimensional array whose first row is (Z[0],Z[1],Z[2]) and each subsequent row is shifted by 1 (last row should be (Z[-3],Z[-2],Z[-1])\n"
    }
   }
  },
  {
   "cell_type": "code",
   "execution_count": 27,
   "outputs": [
    {
     "name": "stdout",
     "output_type": "stream",
     "text": [
      "[ 1.24087887  2.47164964  6.0804209   2.29972358  2.7636479   4.75271807\n",
      "  0.2526462   7.612313   12.89770375  8.26838845]\n"
     ]
    }
   ],
   "source": [
    "def distance(P0, P1, p):\n",
    "    T = P1 - P0\n",
    "    L = (T**2).sum(axis=1)\n",
    "    #sum应该是默认的axis=0 就是普通的相加\n",
    "    #axis=1以后就是将一个矩阵的每一行向量相加\n",
    "    U = -((P0[:,0]-p[...,0])*T[:,0] + (P0[:,1]-p[...,1])*T[:,1]) / L\n",
    "    U = U.reshape(len(U),1)\n",
    "    D = P0 + U*T - p\n",
    "    return np.sqrt((D**2).sum(axis=1))\n",
    "\n",
    "P0 = np.random.uniform(-10,10,(10,2))\n",
    "P1 = np.random.uniform(-10,10,(10,2))\n",
    "p  = np.random.uniform(-10,10,( 1,2))\n",
    "\n",
    "print (distance(P0, P1, p))"
   ],
   "metadata": {
    "collapsed": false,
    "pycharm": {
     "name": "#%%考虑两组点集P0和P1去描述一组线(二维)和一个点p,如何计算点p到每一条线 i (P0[i],P1[i])的距离\n"
    }
   }
  },
  {
   "cell_type": "code",
   "execution_count": null,
   "outputs": [],
   "source": [
    "# # based on distance function from previous question\n",
    "P0 = np.random.uniform(-10, 10, (10,2))\n",
    "P1 = np.random.uniform(-10,10,(10,2))\n",
    "p = np.random.uniform(-10, 10, (10,2))\n",
    "print (np.array([distance(P0,P1,p_i) for p_i in p]))"
   ],
   "metadata": {
    "collapsed": false,
    "pycharm": {
     "name": "#%%考虑两组点集P0和P1去描述一组线(二维)和一组点集P，如何计算每一个点 j(P[j]) 到每一条线 i (P0[i],P1[i])的距离\n"
    }
   }
  },
  {
   "cell_type": "code",
   "execution_count": 28,
   "outputs": [
    {
     "name": "stdout",
     "output_type": "stream",
     "text": [
      "[[5 8 8 2 6 3 6 8 4 2]\n",
      " [7 0 7 1 8 7 5 8 9 9]\n",
      " [8 0 6 8 8 0 3 1 1 8]\n",
      " [7 9 0 6 1 7 0 9 1 5]\n",
      " [2 8 5 2 1 0 5 0 2 7]\n",
      " [2 2 0 1 3 2 0 8 3 2]\n",
      " [3 0 4 6 1 3 1 1 6 9]\n",
      " [6 4 6 1 4 0 5 7 7 4]\n",
      " [2 9 2 1 7 0 1 6 5 2]\n",
      " [7 8 3 8 3 8 4 6 6 1]]\n",
      "[[0 0 0 0 0]\n",
      " [0 5 8 8 2]\n",
      " [0 7 0 7 1]\n",
      " [0 8 0 6 8]\n",
      " [0 7 9 0 6]]\n"
     ]
    },
    {
     "name": "stderr",
     "output_type": "stream",
     "text": [
      "<ipython-input-28-f291d59e661b>:23: FutureWarning: Using a non-tuple sequence for multidimensional indexing is deprecated; use `arr[tuple(seq)]` instead of `arr[seq]`. In the future this will be interpreted as an array index, `arr[np.array(seq)]`, which will result either in an error or a different result.\n",
      "  R[r] = Z[z]\n"
     ]
    }
   ],
   "source": [
    "Z = np.random.randint(0,10,(10,10))\n",
    "shape = (5,5)\n",
    "fill  = 0\n",
    "position = (1,1)\n",
    "\n",
    "R = np.ones(shape, dtype=Z.dtype)*fill\n",
    "P  = np.array(list(position)).astype(int)\n",
    "Rs = np.array(list(R.shape)).astype(int)\n",
    "Zs = np.array(list(Z.shape)).astype(int)\n",
    "\n",
    "R_start = np.zeros((len(shape),)).astype(int)\n",
    "R_stop  = np.array(list(shape)).astype(int)\n",
    "Z_start = (P-Rs//2)\n",
    "Z_stop  = (P+Rs//2)+Rs%2\n",
    "\n",
    "R_start = (R_start - np.minimum(Z_start,0)).tolist()\n",
    "Z_start = (np.maximum(Z_start,0)).tolist()\n",
    "R_stop = np.maximum(R_start, (R_stop - np.maximum(Z_stop-Zs,0))).tolist()\n",
    "Z_stop = (np.minimum(Z_stop,Zs)).tolist()\n",
    "\n",
    "r = [slice(start,stop) for start,stop in zip(R_start,R_stop)]\n",
    "z = [slice(start,stop) for start,stop in zip(Z_start,Z_stop)]\n",
    "R[r] = Z[z]\n",
    "print (Z)\n",
    "print (R)"
   ],
   "metadata": {
    "collapsed": false,
    "pycharm": {
     "name": "#%%Consider an arbitrary array, write a function that extract a subpart with a fixed shape and centered on a given element (pad with a fill value when necessary\n"
    }
   }
  },
  {
   "cell_type": "code",
   "execution_count": 7,
   "outputs": [
    {
     "name": "stdout",
     "output_type": "stream",
     "text": [
      "[[ 1  2  3  4]\n",
      " [ 2  3  4  5]\n",
      " [ 3  4  5  6]\n",
      " [ 4  5  6  7]\n",
      " [ 5  6  7  8]\n",
      " [ 6  7  8  9]\n",
      " [ 7  8  9 10]\n",
      " [ 8  9 10 11]\n",
      " [ 9 10 11 12]\n",
      " [10 11 12 13]\n",
      " [11 12 13 14]]\n"
     ]
    }
   ],
   "source": [
    "Z = np.arange(1,15)\n",
    "from numpy.lib import stride_tricks\n",
    "R=stride_tricks.as_strided(Z,shape=(11,4),strides=(4,4))\n",
    "# shape 为变形后的形状；\n",
    "# strides中各个数字为每一“步”的字节数，\n",
    "# 每一组内的间隔是1(数据类型int32为4字节)，\n",
    "# 组与组件的间隔也是1(4字节)，故而strides为(4,4)\n",
    "print (R)\n"
   ],
   "metadata": {
    "collapsed": false,
    "pycharm": {
     "name": "#%%考虑一个数组Z = [1,2,3,4,5,6,7,8,9,10,11,12,13,14],如何生成一个数组R = [[1,2,3,4], [2,3,4,5], [3,4,5,6], ...,[11,12,13,14]]\n"
    }
   }
  }
 ],
 "metadata": {
  "kernelspec": {
   "display_name": "Python 3",
   "language": "python",
   "name": "python3"
  },
  "language_info": {
   "codemirror_mode": {
    "name": "ipython",
    "version": 2
   },
   "file_extension": ".py",
   "mimetype": "text/x-python",
   "name": "python",
   "nbconvert_exporter": "python",
   "pygments_lexer": "ipython2",
   "version": "2.7.6"
  }
 },
 "nbformat": 4,
 "nbformat_minor": 0
}