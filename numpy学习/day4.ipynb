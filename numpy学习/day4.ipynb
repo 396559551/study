{
 "cells": [
  {
   "cell_type": "code",
   "execution_count": 3,
   "metadata": {
    "collapsed": true
   },
   "outputs": [],
   "source": [
    "import numpy as   np"
   ]
  },
  {
   "cell_type": "code",
   "execution_count": 4,
   "outputs": [
    {
     "name": "stdout",
     "output_type": "stream",
     "text": [
      "[0.79030598 0.58365478 0.74201775 0.80056863 0.30866791 0.69067683\n",
      " 1.04564821 0.92988721 0.52699603 0.93071249]\n",
      "[0.72865231 0.28064709 0.2479056  0.1803404  0.3687534  0.02493046\n",
      " 0.52191624 0.56575021 0.23091291 1.39779692]\n"
     ]
    }
   ],
   "source": [
    "Z = np.random.random((10,2))\n",
    "X,Y = Z[:,0], Z[:,1]\n",
    "R = np.sqrt(X**2+Y**2)\n",
    "T = np.arctan2(Y,X)\n",
    "print (R)\n",
    "print (T)"
   ],
   "metadata": {
    "collapsed": false,
    "pycharm": {
     "name": "#%%将笛卡尔坐标下的一个10x2的矩阵转换为极坐标形式\n"
    }
   }
  },
  {
   "cell_type": "code",
   "execution_count": 6,
   "outputs": [
    {
     "data": {
      "text/plain": "array([1.        , 0.15824004, 0.65209082, 0.63409719, 0.475457  ,\n       0.02999353, 0.52921741, 0.11439561, 0.03750464, 0.28285272])"
     },
     "execution_count": 6,
     "metadata": {},
     "output_type": "execute_result"
    }
   ],
   "source": [
    "a=np.random.random(10)\n",
    "a[a.argmax()]=1\n",
    "#a.argmax返回沿轴axis最大值的索引axis=0代表列，axis=1代表行\n",
    "a"
   ],
   "metadata": {
    "collapsed": false,
    "pycharm": {
     "name": "#%%创建一个长度为10的向量，并将向量中最大值替换为1\n"
    }
   }
  },
  {
   "cell_type": "code",
   "execution_count": 7,
   "outputs": [
    {
     "data": {
      "text/plain": "array([[(0.  , 0.  ), (0.25, 0.  ), (0.5 , 0.  ), (0.75, 0.  ),\n        (1.  , 0.  )],\n       [(0.  , 0.25), (0.25, 0.25), (0.5 , 0.25), (0.75, 0.25),\n        (1.  , 0.25)],\n       [(0.  , 0.5 ), (0.25, 0.5 ), (0.5 , 0.5 ), (0.75, 0.5 ),\n        (1.  , 0.5 )],\n       [(0.  , 0.75), (0.25, 0.75), (0.5 , 0.75), (0.75, 0.75),\n        (1.  , 0.75)],\n       [(0.  , 1.  ), (0.25, 1.  ), (0.5 , 1.  ), (0.75, 1.  ),\n        (1.  , 1.  )]], dtype=[('x', '<f8'), ('y', '<f8')])"
     },
     "execution_count": 7,
     "metadata": {},
     "output_type": "execute_result"
    }
   ],
   "source": [
    "Z = np.zeros((5,5),[('x',float),('y',float)])\n",
    "Z['x'],Z['y']=np.meshgrid(np.linspace(0,1,5),np.linspace(0,1,5))\n",
    "Z\n",
    "#二维坐标系中,X轴可以取三个值1,2,3, Y轴可以取三个值7,8, 请问可以获得多少个点的坐标?\n",
    "# 显而易见是6个:\n",
    "# (1,7)(2,7)(3,7)\n",
    "# (1,8)(2,8)(3,8)\n",
    "#\n",
    "# np.meshgrid()就是干这个的!"
   ],
   "metadata": {
    "collapsed": false,
    "pycharm": {
     "name": "#%%创建一个结构化数组，并实现 x 和 y 坐标覆盖 [0,1]x[0,1] 区域\n"
    }
   }
  },
  {
   "cell_type": "code",
   "execution_count": 8,
   "outputs": [
    {
     "name": "stdout",
     "output_type": "stream",
     "text": [
      "3638.1636371179666\n"
     ]
    }
   ],
   "source": [
    "X = np.arange(8)\n",
    "Y = X + 0.5\n",
    "C = 1.0 / np.subtract.outer(X, Y)\n",
    "#np.subtract.outer(b,a)是b[:,None]-a的函数对应\n",
    "# 其含义是：有两个向量a、b，\n",
    "# 要实现a中的每个元素与b中的每个元素进行比较\n",
    "print(np.linalg.det(C))\n",
    "# #np.linalg.det():矩阵求行列式\n",
    "#\n",
    "# 二、np.linalg.inv()：矩阵求逆\n",
    "#\n",
    "# 三、np.linalg.norm():求范数"
   ],
   "metadata": {
    "collapsed": false,
    "pycharm": {
     "name": "#%%给定两个数组X和Y，构造Cauchy矩阵C (Cij =1/(xi - yj))\n"
    }
   }
  },
  {
   "cell_type": "code",
   "execution_count": 11,
   "outputs": [
    {
     "name": "stdout",
     "output_type": "stream",
     "text": [
      "[((0., 0.), (0., 0., 0.)) ((0., 0.), (0., 0., 0.))\n",
      " ((0., 0.), (0., 0., 0.)) ((0., 0.), (0., 0., 0.))\n",
      " ((0., 0.), (0., 0., 0.)) ((0., 0.), (0., 0., 0.))\n",
      " ((0., 0.), (0., 0., 0.)) ((0., 0.), (0., 0., 0.))\n",
      " ((0., 0.), (0., 0., 0.)) ((0., 0.), (0., 0., 0.))]\n"
     ]
    },
    {
     "name": "stderr",
     "output_type": "stream",
     "text": [
      "<ipython-input-11-d1aae3368800>:1: FutureWarning: Passing (type, 1) or '1type' as a synonym of type is deprecated; in a future version of numpy, it will be understood as (type, (1,)) / '(1,)type'.\n",
      "  Z = np.zeros(10, [ ('position', [ ('x', float, 1),\n"
     ]
    }
   ],
   "source": [
    "Z = np.zeros(10, [ ('position', [ ('x', float, 1),\n",
    "                                  ('y', float, 1)]),\n",
    "                   ('color',    [ ('r', float, 1),\n",
    "                                  ('g', float, 1),\n",
    "                                  ('b', float, 1)])])\n",
    "print (Z)"
   ],
   "metadata": {
    "collapsed": false,
    "pycharm": {
     "name": "#%% 创建一个表示位置(x,y)和颜色(r,g,b)的结构化数组\n"
    }
   }
  },
  {
   "cell_type": "code",
   "execution_count": 16,
   "outputs": [
    {
     "data": {
      "text/plain": "array([[0.62693816, 0.90973141, 0.90275362, 0.94308009, 0.78929454,\n        0.55128911, 0.99453278, 0.02796779, 0.22400287, 0.5034266 ]])"
     },
     "execution_count": 16,
     "metadata": {},
     "output_type": "execute_result"
    }
   ],
   "source": [
    "a=np.random.random((10,2))\n",
    "x,y=np.atleast_2d(a[:,0],a[:,1])\n",
    "d=np.sqrt((x-x.T)**2+(y-y.T)**2)\n",
    "d\n",
    "# # 方法2\n",
    "# # Much faster with scipy\n",
    "# import scipy\n",
    "# # Thanks Gavin Heverly-Coulson (#issue 1)\n",
    "# import scipy.spatial\n",
    "# D = scipy.spatial.distance.cdist(Z,Z)\n",
    "# print (D)"
   ],
   "metadata": {
    "collapsed": false,
    "pycharm": {
     "name": "#%% 对一个表示坐标形状为(10,2)的随机向量，找到点与点的距离\n"
    }
   }
  },
  {
   "cell_type": "code",
   "execution_count": null,
   "outputs": [],
   "source": [
    "X, Y = np.meshgrid(np.linspace(-1,1,10), np.linspace(-1,1,10))\n",
    "D = np.sqrt(X*X+Y*Y)\n",
    "sigma, mu = 1.0, 0.0\n",
    "G = np.exp(-( (D-mu)**2 / ( 2.0 * sigma**2 ) ) )\n",
    "print (G)"
   ],
   "metadata": {
    "collapsed": false,
    "pycharm": {
     "name": "#%% 生成一个通用的二维Gaussian-like数组\n"
    }
   }
  },
  {
   "cell_type": "code",
   "execution_count": null,
   "outputs": [],
   "source": [
    "X = np.random.rand(5, 10)\n",
    "# Recent versions of numpy\n",
    "Y = X - X.mean(axis=1, keepdims=True)\n",
    "print(Y)"
   ],
   "metadata": {
    "collapsed": false,
    "pycharm": {
     "name": "#%% 减去一个矩阵中的每一行的平均值\n"
    }
   }
  },
  {
   "cell_type": "code",
   "execution_count": 21,
   "outputs": [
    {
     "name": "stdout",
     "output_type": "stream",
     "text": [
      "[[3 9 4]\n",
      " [4 6 2]\n",
      " [0 2 4]]\n",
      "[9 6 2]\n",
      "[2 1 0]\n",
      "[[0 2 4]\n",
      " [4 6 2]\n",
      " [3 9 4]]\n"
     ]
    }
   ],
   "source": [
    "Z = np.random.randint(0,10,(3,3))\n",
    "print (Z)\n",
    "Z1=Z[:,1]\n",
    "print (Z1)\n",
    "Z2=Z1.argsort()\n",
    "print(Z2)\n",
    "Z3=Z[Z2]\n",
    "print(Z3)"
   ],
   "metadata": {
    "collapsed": false,
    "pycharm": {
     "name": "#%%如何通过第n列对一个数组进行排序\n"
    }
   }
  },
  {
   "cell_type": "code",
   "execution_count": 22,
   "outputs": [
    {
     "data": {
      "text/plain": "False"
     },
     "execution_count": 22,
     "metadata": {},
     "output_type": "execute_result"
    }
   ],
   "source": [
    "Z = np.random.randint(0,3,(3,10))\n",
    "~Z.any(axis=0).any()\n",
    "\n",
    "\n"
   ],
   "metadata": {
    "collapsed": false,
    "pycharm": {
     "name": "#%%60 如何检查一个二维数组是否有空列？\n"
    }
   }
  }
 ],
 "metadata": {
  "kernelspec": {
   "display_name": "Python 3",
   "language": "python",
   "name": "python3"
  },
  "language_info": {
   "codemirror_mode": {
    "name": "ipython",
    "version": 2
   },
   "file_extension": ".py",
   "mimetype": "text/x-python",
   "name": "python",
   "nbconvert_exporter": "python",
   "pygments_lexer": "ipython2",
   "version": "2.7.6"
  }
 },
 "nbformat": 4,
 "nbformat_minor": 0
}